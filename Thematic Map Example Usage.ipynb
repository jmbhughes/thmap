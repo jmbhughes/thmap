{
 "cells": [
  {
   "cell_type": "markdown",
   "metadata": {},
   "source": [
    "# Example Thematic Map Code Usage"
   ]
  },
  {
   "cell_type": "code",
   "execution_count": null,
   "metadata": {},
   "outputs": [],
   "source": [
    "# Import packages\n",
    "from thmap.classify import ProbabilisticConcentricRandomForest\n",
    "from thmap.io import ThematicMap, ImageSet\n",
    "from glob import glob\n",
    "from datetime import datetime\n",
    "import matplotlib\n",
    "import matplotlib.pyplot as plt\n",
    "%matplotlib notebook"
   ]
  },
  {
   "cell_type": "markdown",
   "metadata": {},
   "source": [
    "## Train Random Forest"
   ]
  },
  {
   "cell_type": "markdown",
   "metadata": {},
   "source": [
    "### Initialize Thematic Map Object"
   ]
  },
  {
   "cell_type": "code",
   "execution_count": null,
   "metadata": {},
   "outputs": [],
   "source": [
    "'''\n",
    "Notes:  -The theme probabilities can be adjusted according to how confident the algorithm should be about determining something\n",
    "            to be a feature\n",
    "        -Refer to the object initialization within the code for other optional parameters that can be used in defining the object.\n",
    "            For example, autofill can be turned off if you don't want a pixel to default to the most conservative theme\n",
    "'''\n",
    "# Define how themes are mapped to values within the data of the thematic map: standard shown below\n",
    "solar_indices = {'unlabeled':0, \n",
    "                 'outer_space':1, \n",
    "                 'bright_region':3, \n",
    "                 'filament':4,\n",
    "                 'prominence':5,\n",
    "                 'coronal_hole':6,\n",
    "                 'quiet_sun':7,\n",
    "                 'limb':8,\n",
    "                 'flare':9}\n",
    "\n",
    "# Define what themes can be present in which layers of the thematic map\n",
    "themes_in_radii = []\n",
    "themes_in_radii.append(['bright_region', 'filament', 'coronal_hole', 'quiet_sun', 'flare'])\n",
    "themes_in_radii.append(['outer_space', 'bright_region', 'prominence', 'limb', 'flare'])\n",
    "themes_in_radii.append(['outer_space'])\n",
    "\n",
    "# Define a dictionary of probabilities at which to threshold each theme\n",
    "theme_probs = {'bright_region':0.85, 'filament':0.96, 'coronal_hole':0.92, 'quiet_sun':0.2, 'prominence':0.82, 'limb':0.74, 'flare':0.999, 'outer_space':0.2}\n",
    "\n",
    "# Create a probabilistic concentric random forest object which will be used to create thematic maps\n",
    "rf_classifier = ProbabilisticConcentricRandomForest(solar_indices, themes_in_radii, theme_probs)"
   ]
  },
  {
   "cell_type": "markdown",
   "metadata": {},
   "source": [
    "### Train Random Forest"
   ]
  },
  {
   "cell_type": "code",
   "execution_count": null,
   "metadata": {},
   "outputs": [],
   "source": [
    "'''\n",
    "Notes:  -Training data consists of one file per chosen time containing an annotated solar image. They must be formatted \n",
    "            as fits file, and must contain both thematic map data and date in metadata \n",
    "'''\n",
    "\n",
    "# Define path to a local directory of training data\n",
    "train_dir = \"/*directory_containing_train_data*\"\n",
    "\n",
    "# Define list of filenames in training data directory\n",
    "train_fns = glob(train_dir + \"*.fits\")\n",
    "\n",
    "# Load each file in training directory as a thematic map object\n",
    "train_thmaps = [ThematicMap.load(fn) for fn in train_fns]\n",
    "\n",
    "# Train the standard random forest model on the loaded thematic maps\n",
    "rf_classifier.train(train_thmaps)"
   ]
  },
  {
   "cell_type": "markdown",
   "metadata": {},
   "source": [
    "### Save Trained Random Forest"
   ]
  },
  {
   "cell_type": "code",
   "execution_count": null,
   "metadata": {},
   "outputs": [],
   "source": [
    "'''\n",
    "Notes:  -Make sure to save the model after training, otherwise an empty random forest object will be saved\n",
    "'''\n",
    "\n",
    "# Define a local path to save the random forest model to. File save format is h5\n",
    "rf_save_path = \"/*path_to_save_random_forest_model*\"\n",
    "\n",
    "# Use the save function on the concentric random forest object\n",
    "rf_classifier.save(rf_save_path)"
   ]
  },
  {
   "cell_type": "markdown",
   "metadata": {},
   "source": [
    "## Classify with Random Forest"
   ]
  },
  {
   "cell_type": "markdown",
   "metadata": {},
   "source": [
    "### Load Trained Random Forest"
   ]
  },
  {
   "cell_type": "code",
   "execution_count": null,
   "metadata": {},
   "outputs": [],
   "source": [
    "'''\n",
    "Notes: *START HERE IF YOU DON'T HAVE TRAINING DATA BUT HAVE A TRAINED MODEL\n",
    "        - For results similar to what is being run in real time at NOAA, use the trained model in the examples folder on github\n",
    "'''\n",
    "\n",
    "# Define a local path to save the random forest model to. File save format is h5\n",
    "rf_load_path = \"/*path_to_load_random_forest_model*\"\n",
    "\n",
    "# Use the save function on the concentric random forest object\n",
    "rf_classifier = ProbabilisticConcentricRandomForest.load(rf_load_path)"
   ]
  },
  {
   "cell_type": "markdown",
   "metadata": {},
   "source": [
    "### Classify an Image using the Random Forest"
   ]
  },
  {
   "cell_type": "code",
   "execution_count": null,
   "metadata": {},
   "outputs": [],
   "source": [
    "'''\n",
    "Notes:  -Define a date and time to for which there are composite images. The composite images will be accessed online \n",
    "            and the classifier will convert them into a thematic map. Images are taken at a 4 minute cadence\n",
    "        -Classification will give an output of a thematic map object (as defined in the thematic map class)\n",
    "'''\n",
    "# Define the date and time to classify on. (year, month, day, hour, and minute) are necessary to define a unique image\n",
    "date = datetime(2019, 5, 4, 22, 43)\n",
    "\n",
    "# Define set of composite images corresponding to the date as an ImageSet object\n",
    "image_set = ImageSet.retrieve(date)\n",
    "\n",
    "# Use the classify method to return a thematic map object\n",
    "thmap = rf_classifier.classify(image_set)\n",
    "\n",
    "# You can also change the theme probabilities before classifying, as shown below. Note that these will be different than those used in training\n",
    "theme_probs = {'bright_region':0.85, 'filament':0.96, 'coronal_hole':0.92, 'quiet_sun':0.2, 'prominence':0.82, 'limb':0.74, 'flare':0.999, 'outer_space':0.2}\n",
    "rf_classifier.theme_probabilities = theme_probs\n",
    "\n",
    "# Or you can change one individual theme by doing the following\n",
    "rf_classifier.theme_probabilities['bright_region'] = 0.85\n",
    "\n",
    "# Then classify with the new classifier object\n",
    "thmap = rf_classifier.classify(image_set)"
   ]
  },
  {
   "cell_type": "markdown",
   "metadata": {},
   "source": [
    "### Plot the Thematic Map"
   ]
  },
  {
   "cell_type": "code",
   "execution_count": null,
   "metadata": {},
   "outputs": [],
   "source": [
    "'''\n",
    "Notes: -The thematic map will be plotted using functionality from the thematic map class\n",
    "'''\n",
    "\n",
    "# Generate a plot of the thematic map\n",
    "thmap.generate_plot()"
   ]
  }
 ],
 "metadata": {
  "kernelspec": {
   "display_name": "Python 3",
   "language": "python",
   "name": "python3"
  },
  "language_info": {
   "codemirror_mode": {
    "name": "ipython",
    "version": 3
   },
   "file_extension": ".py",
   "mimetype": "text/x-python",
   "name": "python",
   "nbconvert_exporter": "python",
   "pygments_lexer": "ipython3",
   "version": "3.8.5"
  }
 },
 "nbformat": 4,
 "nbformat_minor": 2
}
